{
 "cells": [
  {
   "cell_type": "markdown",
   "id": "e12af4c4",
   "metadata": {},
   "source": [
    "#### Q.1\n",
    "- What is the result of the following?"
   ]
  },
  {
   "cell_type": "code",
   "execution_count": 1,
   "id": "e7f51e55",
   "metadata": {},
   "outputs": [
    {
     "name": "stdout",
     "output_type": "stream",
     "text": [
      "15\n"
     ]
    }
   ],
   "source": [
    "\n",
    "numbers = [1,2,3,4,5]\n",
    "\n",
    "total=0\n",
    "\n",
    "for num in numbers:\n",
    "    total+=num\n",
    "    \n",
    "print(total)"
   ]
  },
  {
   "cell_type": "code",
   "execution_count": 2,
   "id": "289e05cd",
   "metadata": {},
   "outputs": [
    {
     "name": "stdout",
     "output_type": "stream",
     "text": [
      "11\n"
     ]
    }
   ],
   "source": [
    "def outer_function():\n",
    "    x=10\n",
    "    \n",
    "    def inner_function():\n",
    "        nonlocal x\n",
    "        x +=1\n",
    "        print(x)\n",
    "        \n",
    "    inner_function()\n",
    "    \n",
    "outer_function()"
   ]
  },
  {
   "cell_type": "markdown",
   "id": "ddc9c559",
   "metadata": {},
   "source": [
    "#### Q.2\n",
    "- Make the given text \"top gun \" into uppercases"
   ]
  },
  {
   "cell_type": "code",
   "execution_count": 3,
   "id": "67e53c60",
   "metadata": {},
   "outputs": [
    {
     "name": "stdout",
     "output_type": "stream",
     "text": [
      "TOP, GUN\n"
     ]
    }
   ],
   "source": [
    "def upper_case(text):\n",
    "    return text.upper()\n",
    "\n",
    "result=upper_case(\"Top, Gun\")\n",
    "\n",
    "print(result)\n",
    "    "
   ]
  },
  {
   "cell_type": "markdown",
   "id": "4a875fd8",
   "metadata": {},
   "source": [
    "#### Q.3\n",
    "- Is why is d returning a zero?"
   ]
  },
  {
   "cell_type": "markdown",
   "id": "0255a1be",
   "metadata": {},
   "source": [
    "- This is because d is into in the dictionary created"
   ]
  },
  {
   "cell_type": "code",
   "execution_count": 3,
   "id": "7d402d80",
   "metadata": {},
   "outputs": [
    {
     "name": "stdout",
     "output_type": "stream",
     "text": [
      "0\n"
     ]
    }
   ],
   "source": [
    "#this creates a dictionary\n",
    "my_dict={'a':2,'b':3,'c':4}\n",
    "#this tries to get d from the dictionary if not present it returns 0\n",
    "result=my_dict.get('d',0)\n",
    "print(result)"
   ]
  },
  {
   "cell_type": "markdown",
   "id": "d361ea52",
   "metadata": {},
   "source": [
    "#### Q.4\n",
    "- What is the output of the following?\n"
   ]
  },
  {
   "cell_type": "code",
   "execution_count": 4,
   "id": "3bcf50fb",
   "metadata": {},
   "outputs": [
    {
     "name": "stdout",
     "output_type": "stream",
     "text": [
      "Liskedis\n"
     ]
    }
   ],
   "source": [
    "s= \"Linkedin\"\n",
    "print(s.replace('in','is'))"
   ]
  },
  {
   "cell_type": "markdown",
   "id": "83d9197d",
   "metadata": {},
   "source": [
    "- The above shows how 'replace' is used "
   ]
  },
  {
   "cell_type": "markdown",
   "id": "8ff34681",
   "metadata": {},
   "source": [
    "#### Q.5\n",
    "- How to check if a set is contained in another set"
   ]
  },
  {
   "cell_type": "code",
   "execution_count": 7,
   "id": "3c8c56b3",
   "metadata": {},
   "outputs": [
    {
     "name": "stdout",
     "output_type": "stream",
     "text": [
      "True\n"
     ]
    }
   ],
   "source": [
    "#sets 1 and 2\n",
    "\n",
    "s1 = {'c','b','a','f'}\n",
    "s2 = {'c','b','a','f'}\n",
    "\n",
    "print(s2<=s1)"
   ]
  },
  {
   "cell_type": "code",
   "execution_count": 10,
   "id": "c64cfe2e",
   "metadata": {},
   "outputs": [
    {
     "ename": "NameError",
     "evalue": "name 'git' is not defined",
     "output_type": "error",
     "traceback": [
      "\u001b[0;31m---------------------------------------------------------------------------\u001b[0m",
      "\u001b[0;31mNameError\u001b[0m                                 Traceback (most recent call last)",
      "\u001b[0;32m/tmp/ipykernel_3647/2768940822.py\u001b[0m in \u001b[0;36m<module>\u001b[0;34m\u001b[0m\n\u001b[0;32m----> 1\u001b[0;31m \u001b[0mgit\u001b[0m\u001b[0;34m\u001b[0m\u001b[0;34m\u001b[0m\u001b[0m\n\u001b[0m",
      "\u001b[0;31mNameError\u001b[0m: name 'git' is not defined"
     ]
    }
   ],
   "source": [
    "git"
   ]
  },
  {
   "cell_type": "code",
   "execution_count": null,
   "id": "df2350ed",
   "metadata": {},
   "outputs": [],
   "source": []
  }
 ],
 "metadata": {
  "kernelspec": {
   "display_name": "Python 3 (ipykernel)",
   "language": "python",
   "name": "python3"
  },
  "language_info": {
   "codemirror_mode": {
    "name": "ipython",
    "version": 3
   },
   "file_extension": ".py",
   "mimetype": "text/x-python",
   "name": "python",
   "nbconvert_exporter": "python",
   "pygments_lexer": "ipython3",
   "version": "3.9.13"
  }
 },
 "nbformat": 4,
 "nbformat_minor": 5
}
