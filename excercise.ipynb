{
 "cells": [
  {
   "cell_type": "markdown",
   "id": "74dcef23",
   "metadata": {},
   "source": [
    "#### Q.1\n",
    "- What is the result of the following?"
   ]
  },
  {
   "cell_type": "code",
   "execution_count": 1,
   "id": "e7f51e55",
   "metadata": {},
   "outputs": [
    {
     "name": "stdout",
     "output_type": "stream",
     "text": [
      "15\n"
     ]
    }
   ],
   "source": [
    "\n",
    "numbers = [1,2,3,4,5]\n",
    "\n",
    "total=0\n",
    "\n",
    "for num in numbers:\n",
    "    total+=num\n",
    "    \n",
    "print(total)"
   ]
  },
  {
   "cell_type": "code",
   "execution_count": 2,
   "id": "289e05cd",
   "metadata": {},
   "outputs": [
    {
     "name": "stdout",
     "output_type": "stream",
     "text": [
      "11\n"
     ]
    }
   ],
   "source": [
    "def outer_function():\n",
    "    x=10\n",
    "    \n",
    "    def inner_function():\n",
    "        nonlocal x\n",
    "        x +=1\n",
    "        print(x)\n",
    "        \n",
    "    inner_function()\n",
    "    \n",
    "outer_function()"
   ]
  },
  {
   "cell_type": "markdown",
   "id": "91670ba4",
   "metadata": {},
   "source": [
    "#### Q.2\n",
    "- Make the given text \"top gun \" into uppercases"
   ]
  },
  {
   "cell_type": "code",
   "execution_count": 3,
   "id": "67e53c60",
   "metadata": {},
   "outputs": [
    {
     "name": "stdout",
     "output_type": "stream",
     "text": [
      "TOP, GUN\n"
     ]
    }
   ],
   "source": [
    "def upper_case(text):\n",
    "    return text.upper()\n",
    "\n",
    "result=upper_case(\"Top, Gun\")\n",
    "\n",
    "print(result)\n",
    "    "
   ]
  },
  {
   "cell_type": "markdown",
   "id": "6673fec6",
   "metadata": {},
   "source": [
    "#### Q.3\n",
    "- Is why is d returning a zero?"
   ]
  },
  {
   "cell_type": "markdown",
   "id": "36806111",
   "metadata": {},
   "source": [
    "- This is because d is into in the dictionary created"
   ]
  },
  {
   "cell_type": "code",
   "execution_count": 3,
   "id": "7d402d80",
   "metadata": {},
   "outputs": [
    {
     "name": "stdout",
     "output_type": "stream",
     "text": [
      "0\n"
     ]
    }
   ],
   "source": [
    "#this creates a dictionary\n",
    "my_dict={'a':2,'b':3,'c':4}\n",
    "#this tries to get d from the dictionary if not present it returns 0\n",
    "result=my_dict.get('d',0)\n",
    "print(result)"
   ]
  },
  {
   "cell_type": "markdown",
   "id": "653471f5",
   "metadata": {},
   "source": [
    "#### Q.4\n",
    "- What is the output of the following?\n"
   ]
  },
  {
   "cell_type": "code",
   "execution_count": 4,
   "id": "9b26d4c1",
   "metadata": {},
   "outputs": [
    {
     "name": "stdout",
     "output_type": "stream",
     "text": [
      "Liskedis\n"
     ]
    }
   ],
   "source": [
    "s= \"Linkedin\"\n",
    "print(s.replace('in','is'))"
   ]
  },
  {
   "cell_type": "markdown",
   "id": "a424fa3b",
   "metadata": {},
   "source": [
    "- The above shows how 'replace' is used "
   ]
  },
  {
   "cell_type": "markdown",
   "id": "72a3f0f7",
   "metadata": {},
   "source": [
    "#### Q.5\n",
    "- How to check if a set is contained in another set"
   ]
  },
  {
   "cell_type": "code",
   "execution_count": 7,
   "id": "d4fcd515",
   "metadata": {},
   "outputs": [
    {
     "name": "stdout",
     "output_type": "stream",
     "text": [
      "True\n"
     ]
    }
   ],
   "source": [
    "#sets 1 and 2\n",
    "\n",
    "s1 = {'c','b','a','f'}\n",
    "s2 = {'c','b','a','f'}\n",
    "\n",
    "print(s2<=s1)"
   ]
  },
  {
   "cell_type": "code",
   "execution_count": 10,
   "id": "b5157db2",
   "metadata": {
    "scrolled": true
   },
   "outputs": [
    {
     "ename": "NameError",
     "evalue": "name 'git' is not defined",
     "output_type": "error",
     "traceback": [
      "\u001b[0;31m---------------------------------------------------------------------------\u001b[0m",
      "\u001b[0;31mNameError\u001b[0m                                 Traceback (most recent call last)",
      "\u001b[0;32m/tmp/ipykernel_3647/2768940822.py\u001b[0m in \u001b[0;36m<module>\u001b[0;34m\u001b[0m\n\u001b[0;32m----> 1\u001b[0;31m \u001b[0mgit\u001b[0m\u001b[0;34m\u001b[0m\u001b[0;34m\u001b[0m\u001b[0m\n\u001b[0m",
      "\u001b[0;31mNameError\u001b[0m: name 'git' is not defined"
     ]
    }
   ],
   "source": [
    "git"
   ]
  },
  {
   "cell_type": "markdown",
   "id": "c734b247",
   "metadata": {},
   "source": [
    "Q.6"
   ]
  },
  {
   "cell_type": "markdown",
   "id": "7d8104ef",
   "metadata": {},
   "source": [
    "- how to converst column entries to lower characters and remove special characters using python"
   ]
  },
  {
   "cell_type": "code",
   "execution_count": 1,
   "id": "f3813480",
   "metadata": {},
   "outputs": [],
   "source": [
    "import pandas as pd\n",
    "\n",
    "import re"
   ]
  },
  {
   "cell_type": "code",
   "execution_count": 8,
   "id": "653a953b",
   "metadata": {},
   "outputs": [
    {
     "data": {
      "text/html": [
       "<div>\n",
       "<style scoped>\n",
       "    .dataframe tbody tr th:only-of-type {\n",
       "        vertical-align: middle;\n",
       "    }\n",
       "\n",
       "    .dataframe tbody tr th {\n",
       "        vertical-align: top;\n",
       "    }\n",
       "\n",
       "    .dataframe thead th {\n",
       "        text-align: right;\n",
       "    }\n",
       "</style>\n",
       "<table border=\"1\" class=\"dataframe\">\n",
       "  <thead>\n",
       "    <tr style=\"text-align: right;\">\n",
       "      <th></th>\n",
       "      <th>column_1</th>\n",
       "      <th>column_2</th>\n",
       "      <th>Column3</th>\n",
       "    </tr>\n",
       "  </thead>\n",
       "  <tbody>\n",
       "    <tr>\n",
       "      <th>0</th>\n",
       "      <td>Hello, World!</td>\n",
       "      <td>#trEes</td>\n",
       "      <td>12345</td>\n",
       "    </tr>\n",
       "    <tr>\n",
       "      <th>1</th>\n",
       "      <td>Python 3.5</td>\n",
       "      <td>mangOes2441</td>\n",
       "      <td>67890</td>\n",
       "    </tr>\n",
       "    <tr>\n",
       "      <th>2</th>\n",
       "      <td>Special#Characters</td>\n",
       "      <td>zEBra</td>\n",
       "      <td>99@!#!</td>\n",
       "    </tr>\n",
       "  </tbody>\n",
       "</table>\n",
       "</div>"
      ],
      "text/plain": [
       "             column_1     column_2 Column3\n",
       "0       Hello, World!       #trEes   12345\n",
       "1          Python 3.5  mangOes2441   67890\n",
       "2  Special#Characters        zEBra  99@!#!"
      ]
     },
     "execution_count": 8,
     "metadata": {},
     "output_type": "execute_result"
    }
   ],
   "source": [
    "# sample dataframe:\n",
    "\n",
    "data=  {'column_1': ['Hello, World!', 'Python 3.5', 'Special#Characters'],\n",
    "       'column_2':['#trEes','mangOes2441','zEBra'],\n",
    "       'Column3': ['12345', '67890', '99@!#!']}\n",
    "\n",
    "df = pd.DataFrame(data)\n",
    "df"
   ]
  },
  {
   "cell_type": "code",
   "execution_count": 10,
   "id": "521f45e5",
   "metadata": {},
   "outputs": [
    {
     "data": {
      "text/html": [
       "<div>\n",
       "<style scoped>\n",
       "    .dataframe tbody tr th:only-of-type {\n",
       "        vertical-align: middle;\n",
       "    }\n",
       "\n",
       "    .dataframe tbody tr th {\n",
       "        vertical-align: top;\n",
       "    }\n",
       "\n",
       "    .dataframe thead th {\n",
       "        text-align: right;\n",
       "    }\n",
       "</style>\n",
       "<table border=\"1\" class=\"dataframe\">\n",
       "  <thead>\n",
       "    <tr style=\"text-align: right;\">\n",
       "      <th></th>\n",
       "      <th>column_1</th>\n",
       "      <th>column_2</th>\n",
       "      <th>Column3</th>\n",
       "    </tr>\n",
       "  </thead>\n",
       "  <tbody>\n",
       "    <tr>\n",
       "      <th>0</th>\n",
       "      <td>hello world</td>\n",
       "      <td>trees</td>\n",
       "      <td>12345</td>\n",
       "    </tr>\n",
       "    <tr>\n",
       "      <th>1</th>\n",
       "      <td>python 35</td>\n",
       "      <td>mangoes2441</td>\n",
       "      <td>67890</td>\n",
       "    </tr>\n",
       "    <tr>\n",
       "      <th>2</th>\n",
       "      <td>specialcharacters</td>\n",
       "      <td>zebra</td>\n",
       "      <td>99</td>\n",
       "    </tr>\n",
       "  </tbody>\n",
       "</table>\n",
       "</div>"
      ],
      "text/plain": [
       "            column_1     column_2 Column3\n",
       "0        hello world        trees   12345\n",
       "1          python 35  mangoes2441   67890\n",
       "2  specialcharacters        zebra      99"
      ]
     },
     "execution_count": 10,
     "metadata": {},
     "output_type": "execute_result"
    }
   ],
   "source": [
    "# function\n",
    "\n",
    "def process(text):\n",
    "    text=text.lower()# convert to lower\n",
    "    text = re.sub(r'[^a-zA-Z0-9\\s]','',text)# take care of the special characters\n",
    "    return text\n",
    "\n",
    "#apply to the dataframe \n",
    "for column in df.columns:\n",
    "    df[column]= df[column].apply(process)\n",
    "    \n",
    "\n",
    "df"
   ]
  },
  {
   "cell_type": "markdown",
   "id": "7d4dc3f0-4074-4f17-84ac-ccfc48b1abcd",
   "metadata": {},
   "source": [
    "Q7"
   ]
  },
  {
   "cell_type": "markdown",
   "id": "fdea76dd-5c2b-46af-927a-ba26c4999a6b",
   "metadata": {},
   "source": [
    "- make a password generator"
   ]
  },
  {
   "cell_type": "code",
   "execution_count": 1,
   "id": "f03ba386-fc3f-4ac3-b306-78a7bf0344c1",
   "metadata": {},
   "outputs": [],
   "source": [
    "import random"
   ]
  },
  {
   "cell_type": "code",
   "execution_count": 9,
   "id": "e828b3bc-9852-40fb-b6ab-cbe09a9e5d4e",
   "metadata": {},
   "outputs": [
    {
     "name": "stdout",
     "output_type": "stream",
     "text": [
      "New password: \n",
      " {O4EG7qKEdSHDRiX\n"
     ]
    }
   ],
   "source": [
    "possibilities = [\n",
    "    'q','w','e','r','t','y','u','i','o','p','a','s','d',\n",
    "    'f','g','h','j','k','l','z','x','c','v','b','n','m',\n",
    "    'Q','W','E','R','T','Y','U','I','O','P','A','S','D',\n",
    "    'F','G','H','J','K','L','Z','X','C','V','B','N','M',\n",
    "    '7','8','9','4','5','6','1','2','3','0','/','[',']',\n",
    "    '{','}','<','>','@','#','$','%','^','*','(',')'\n",
    "]\n",
    "\n",
    "# declare an empty string \n",
    "\n",
    "password = ''\n",
    "\n",
    "for x in range(16):\n",
    "    password = password+ random.choices(possibilities)[0]\n",
    "print( 'New password: \\n', password)"
   ]
  },
  {
   "cell_type": "code",
   "execution_count": null,
   "id": "cdd6c36f-49da-457a-84ea-e1a2b3067b09",
   "metadata": {},
   "outputs": [],
   "source": []
  }
 ],
 "metadata": {
  "kernelspec": {
   "display_name": "Python 3 (ipykernel)",
   "language": "python",
   "name": "python3"
  },
  "language_info": {
   "codemirror_mode": {
    "name": "ipython",
    "version": 3
   },
   "file_extension": ".py",
   "mimetype": "text/x-python",
   "name": "python",
   "nbconvert_exporter": "python",
   "pygments_lexer": "ipython3",
   "version": "3.9.13"
  }
 },
 "nbformat": 4,
 "nbformat_minor": 5
}
