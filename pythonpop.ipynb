{
 "cells": [
  {
   "cell_type": "markdown",
   "id": "811e434e-05f8-4d5d-865f-e072f6598f41",
   "metadata": {},
   "source": [
    "## Some advance python technics "
   ]
  },
  {
   "cell_type": "markdown",
   "id": "05be4e30-0ea9-4a25-a3f0-7b0795952770",
   "metadata": {},
   "source": [
    "- Given the following list sort it out in order "
   ]
  },
  {
   "cell_type": "code",
   "execution_count": 2,
   "id": "a2060ff2-147a-4684-bd16-1d8302c74913",
   "metadata": {},
   "outputs": [
    {
     "name": "stdout",
     "output_type": "stream",
     "text": [
      "[2, 4, 5, 6, 8]\n",
      "[2, 4, 5, 6, 8]\n"
     ]
    }
   ],
   "source": [
    "x= [4,2,8,6,5]\n",
    "# we can create a new list using sorted as follows\n",
    "y = sorted(x)\n",
    "print(y)\n",
    "\n",
    "# or we decide to sort x directly using sort\n",
    "x.sort()\n",
    "print(x)\n"
   ]
  },
  {
   "cell_type": "markdown",
   "id": "7b2b3a7f-5d83-432e-97f5-0b53daee5a1f",
   "metadata": {},
   "source": [
    "- From the above list sort the list from the largest to the smallest "
   ]
  },
  {
   "cell_type": "code",
   "execution_count": 3,
   "id": "dee9d288-81ca-4a09-935d-c3ead1ef0e32",
   "metadata": {},
   "outputs": [
    {
     "data": {
      "text/plain": [
       "[8, 6, 5, 4, 2]"
      ]
     },
     "execution_count": 3,
     "metadata": {},
     "output_type": "execute_result"
    }
   ],
   "source": [
    "x = sorted(x,reverse = True)\n",
    "x"
   ]
  },
  {
   "cell_type": "markdown",
   "id": "7e310db7-72ab-4ad4-a97b-ff64173b82f7",
   "metadata": {},
   "source": [
    "## Functions "
   ]
  },
  {
   "cell_type": "code",
   "execution_count": 4,
   "id": "b77db379-d413-4d8c-aa67-fe5ac3c23dc4",
   "metadata": {},
   "outputs": [],
   "source": [
    "def multi(x):\n",
    "    \"\"\"this function multiplies its input by 2\"\"\"\n",
    "    return x*2"
   ]
  },
  {
   "cell_type": "code",
   "execution_count": 5,
   "id": "47453e5f-2786-478a-824e-a98f02316f5c",
   "metadata": {},
   "outputs": [
    {
     "data": {
      "text/plain": [
       "8"
      ]
     },
     "execution_count": 5,
     "metadata": {},
     "output_type": "execute_result"
    }
   ],
   "source": [
    "multi(4)"
   ]
  },
  {
   "cell_type": "markdown",
   "id": "4c3c9170-69c1-4e90-8d98-071aafb1d86e",
   "metadata": {},
   "source": [
    "- explain what the following function does"
   ]
  },
  {
   "cell_type": "code",
   "execution_count": 6,
   "id": "0c15bee0-116f-445f-9c9f-f5c5b0b853d3",
   "metadata": {},
   "outputs": [],
   "source": [
    "def apply_to_one(f):\n",
    "    \"\"\"calls the function f with 1 as its argument\"\"\"\n",
    "    return f(1)"
   ]
  },
  {
   "cell_type": "markdown",
   "id": "193c3d0a-e8b7-4494-8a94-7c994fcece0a",
   "metadata": {},
   "source": [
    "- in the function bellow ,the apply_to_one function multiplies 1* 2 , from the multi function above "
   ]
  },
  {
   "cell_type": "code",
   "execution_count": 11,
   "id": "52c94b07-37fc-4291-9cc6-0559a8cb1f84",
   "metadata": {},
   "outputs": [
    {
     "data": {
      "text/plain": [
       "2"
      ]
     },
     "execution_count": 11,
     "metadata": {},
     "output_type": "execute_result"
    }
   ],
   "source": [
    "\n",
    "x=apply_to_one(multi)\n",
    "x"
   ]
  },
  {
   "cell_type": "code",
   "execution_count": 12,
   "id": "d3ffc083-da9c-48f6-8524-7b8f782aabe6",
   "metadata": {},
   "outputs": [
    {
     "data": {
      "text/plain": [
       "2"
      ]
     },
     "execution_count": 12,
     "metadata": {},
     "output_type": "execute_result"
    }
   ],
   "source": [
    "# Creating anonymous functions (lambdas)\n",
    "\n",
    "y = apply_to_one(lambda x:x*2)\n",
    "y"
   ]
  },
  {
   "cell_type": "markdown",
   "id": "1cde252c-aae9-4151-9ecd-f18f645aaabe",
   "metadata": {},
   "source": [
    "## Default parameters on functions "
   ]
  },
  {
   "cell_type": "code",
   "execution_count": 14,
   "id": "d13a4107-7838-4f90-bdd9-a6c65af8ba3b",
   "metadata": {},
   "outputs": [
    {
     "name": "stdout",
     "output_type": "stream",
     "text": [
      "Hakuna matata\n"
     ]
    }
   ],
   "source": [
    "def my_message(message = 'Hakuna matata'):\n",
    "    print(message) # will print message if not specified another parameter\n",
    "my_message()"
   ]
  },
  {
   "cell_type": "code",
   "execution_count": 15,
   "id": "2d8ab02d-4226-4d61-b56a-ca143933267c",
   "metadata": {},
   "outputs": [
    {
     "name": "stdout",
     "output_type": "stream",
     "text": [
      "Chicken Biriani\n"
     ]
    }
   ],
   "source": [
    "my_message('Chicken Biriani')"
   ]
  },
  {
   "cell_type": "code",
   "execution_count": null,
   "id": "4d7ffdca-6f32-4723-9dbe-c436c7279a17",
   "metadata": {},
   "outputs": [],
   "source": []
  }
 ],
 "metadata": {
  "kernelspec": {
   "display_name": "Python 3 (ipykernel)",
   "language": "python",
   "name": "python3"
  },
  "language_info": {
   "codemirror_mode": {
    "name": "ipython",
    "version": 3
   },
   "file_extension": ".py",
   "mimetype": "text/x-python",
   "name": "python",
   "nbconvert_exporter": "python",
   "pygments_lexer": "ipython3",
   "version": "3.10.12"
  }
 },
 "nbformat": 4,
 "nbformat_minor": 5
}
